{
  "nbformat": 4,
  "nbformat_minor": 0,
  "metadata": {
    "colab": {
      "name": "helloWorld.ipynb",
      "provenance": [],
      "collapsed_sections": [],
      "include_colab_link": true
    },
    "kernelspec": {
      "name": "python3",
      "display_name": "Python 3"
    },
    "language_info": {
      "name": "python"
    }
  },
  "cells": [
    {
      "cell_type": "markdown",
      "metadata": {
        "id": "view-in-github",
        "colab_type": "text"
      },
      "source": [
        "<a href=\"https://colab.research.google.com/github/KarlRadtke/GitColabIntegration/blob/add_module/helloWorld.ipynb\" target=\"_parent\"><img src=\"https://colab.research.google.com/assets/colab-badge.svg\" alt=\"Open In Colab\"/></a>"
      ]
    },
    {
      "cell_type": "code",
      "metadata": {
        "colab": {
          "base_uri": "https://localhost:8080/"
        },
        "id": "v_4nyamNSC33",
        "outputId": "f146757c-42a5-4f8e-85f0-8bcb5c8d86cc"
      },
      "source": [
        "%load_ext autoreload\n",
        "%autoreload 2\n",
        "from google.colab import drive\n",
        "drive.mount('/content/drive')"
      ],
      "execution_count": 78,
      "outputs": [
        {
          "output_type": "stream",
          "name": "stdout",
          "text": [
            "The autoreload extension is already loaded. To reload it, use:\n",
            "  %reload_ext autoreload\n",
            "Drive already mounted at /content/drive; to attempt to forcibly remount, call drive.mount(\"/content/drive\", force_remount=True).\n"
          ]
        }
      ]
    },
    {
      "cell_type": "code",
      "metadata": {
        "id": "8q3b5D_A1M75",
        "colab": {
          "base_uri": "https://localhost:8080/"
        },
        "outputId": "1b5c460e-aa6f-48ef-8db1-02d705da5822"
      },
      "source": [
        "print(\"Hello Word!!\")"
      ],
      "execution_count": null,
      "outputs": [
        {
          "output_type": "stream",
          "name": "stdout",
          "text": [
            "Hello Word\n"
          ]
        }
      ]
    },
    {
      "cell_type": "code",
      "metadata": {
        "colab": {
          "base_uri": "https://localhost:8080/"
        },
        "id": "rCoooKA1szCJ",
        "outputId": "baea4f61-1bd5-4970-81fa-fc9749afdb62"
      },
      "source": [
        "print(\"2nd text\")"
      ],
      "execution_count": null,
      "outputs": [
        {
          "output_type": "stream",
          "name": "stdout",
          "text": [
            "2nd text\n"
          ]
        }
      ]
    },
    {
      "cell_type": "code",
      "metadata": {
        "id": "ZwnkZbOys1Hd",
        "colab": {
          "base_uri": "https://localhost:8080/"
        },
        "outputId": "e363cfd4-3e48-4275-eaa4-b5b6ca2c163c"
      },
      "source": [
        "print(\"3rd text\")"
      ],
      "execution_count": null,
      "outputs": [
        {
          "output_type": "stream",
          "name": "stdout",
          "text": [
            "3rd text\n"
          ]
        }
      ]
    },
    {
      "cell_type": "code",
      "metadata": {
        "id": "BZm5qSXyKmR0"
      },
      "source": [
        "\n",
        "import sys\n",
        "import os\n",
        "#os.chdir(\"drive/MyDrive/Github/GitColabIntegration\")\n",
        "sys.path.append(\"/content/drive/My Drive/Github/GitColabIntegration/src\")"
      ],
      "execution_count": 97,
      "outputs": []
    },
    {
      "cell_type": "code",
      "metadata": {
        "id": "NbxnDdMdOIvJ"
      },
      "source": [
        "from text_from_module import text"
      ],
      "execution_count": 101,
      "outputs": []
    },
    {
      "cell_type": "code",
      "metadata": {
        "colab": {
          "base_uri": "https://localhost:8080/"
        },
        "id": "_Gxs4xlhWjLp",
        "outputId": "6cc2e438-fe0e-4ef2-ece7-7e6d0ffce028"
      },
      "source": [
        "text()"
      ],
      "execution_count": 102,
      "outputs": [
        {
          "output_type": "stream",
          "name": "stdout",
          "text": [
            "text from module\n"
          ]
        }
      ]
    }
  ]
}