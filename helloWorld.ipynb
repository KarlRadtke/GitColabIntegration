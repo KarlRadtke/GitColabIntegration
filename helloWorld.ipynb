{
  "nbformat": 4,
  "nbformat_minor": 0,
  "metadata": {
    "colab": {
      "name": "helloWorld.ipynb",
      "provenance": [],
      "authorship_tag": "ABX9TyPcQFP+IXHp8FZhkmcchOrj",
      "include_colab_link": true
    },
    "kernelspec": {
      "name": "python3",
      "display_name": "Python 3"
    },
    "language_info": {
      "name": "python"
    }
  },
  "cells": [
    {
      "cell_type": "markdown",
      "metadata": {
        "id": "view-in-github",
        "colab_type": "text"
      },
      "source": [
        "<a href=\"https://colab.research.google.com/github/KarlRadtke/GitColabIntegration/blob/main/helloWorld.ipynb\" target=\"_parent\"><img src=\"https://colab.research.google.com/assets/colab-badge.svg\" alt=\"Open In Colab\"/></a>"
      ]
    },
    {
      "cell_type": "code",
      "metadata": {
        "id": "8q3b5D_A1M75",
        "colab": {
          "base_uri": "https://localhost:8080/"
        },
        "outputId": "1b5c460e-aa6f-48ef-8db1-02d705da5822"
      },
      "source": [
        "print(\"Hello Word\")"
      ],
      "execution_count": 1,
      "outputs": [
        {
          "output_type": "stream",
          "name": "stdout",
          "text": [
            "Hello Word\n"
          ]
        }
      ]
    }
  ]
}